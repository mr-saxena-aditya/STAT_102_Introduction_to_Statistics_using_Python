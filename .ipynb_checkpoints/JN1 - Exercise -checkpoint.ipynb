{
 "cells": [
  {
   "cell_type": "markdown",
   "id": "ec8cfe4f",
   "metadata": {},
   "source": [
    "# Exercise: Exploring Air Quality Index (AQI) by County (2023)\n",
    "\n",
    "### Introduction\n",
    "\n",
    "Welcome to the Descriptive Statistics Mastery Exercise! In this exercise, we will delve into the \"aqi_by_county_2023\" dataset, which contains information about the Air Quality Index (AQI) across different counties for the year 2023. The AQI is a crucial metric that quantifies the quality of the air we breathe, considering various pollutants. Through this exercise, you will sharpen your skills in descriptive statistics, exploring key aspects of the dataset to gain insights into air quality variations.\n",
    "\n",
    "### Dataset Information:\n",
    "\n",
    "Dataset Name: annual_aqi_by_county_2023.csv\n",
    "    \n",
    "Columns: State, County, Year, Days with AQI, Good Days, Moderate Days, Unhealthy for Sensitive Groups Days, Unhealthy Days, Very Unhealthy Days, Hazardous Days, Max AQI, 90th Percentile AQI, Median AQI, Days CO, Days NO2, Days Ozone, Days PM2.5, Days PM10\n",
    "\n",
    "    \n",
    "Rows: Each row represents AQI data for a specific county.\n",
    "    \n",
    "### Objective:\n",
    "\n",
    "Explore and analyze the AQI dataset using descriptive statistics to understand the central tendencies, variabilities, and distributions of air quality across different counties. This exercise will cover mean, median, range, quartiles, and more, providing a comprehensive overview of the air quality landscape in 2023.\n",
    "\n",
    "### Tools:\n",
    "You may use Pandas, NumPy, and Matplotlib for data manipulation, calculations, and visualization.\n",
    "\n",
    "Now, let's dive into the exercises and uncover valuable insights from the AQI dataset!"
   ]
  },
  {
   "cell_type": "markdown",
   "id": "b800fc0b",
   "metadata": {},
   "source": [
    "## Step 1 : Import the relevant files\n",
    "\n",
    "Import the relevant Python libraries `pandas` and `numpy`."
   ]
  },
  {
   "cell_type": "code",
   "execution_count": 57,
   "id": "20ff99c0",
   "metadata": {},
   "outputs": [],
   "source": [
    "# Import relevant Python libraries.\n",
    "\n",
    "### YOUR CODE HERE ###"
   ]
  },
  {
   "cell_type": "markdown",
   "id": "1e8f1fb4",
   "metadata": {},
   "source": [
    "## Step 2: Import the Data from the file into a dataframe\n",
    "\n"
   ]
  },
  {
   "cell_type": "code",
   "execution_count": 58,
   "id": "da2bd98d",
   "metadata": {},
   "outputs": [],
   "source": [
    "# RUN THIS CELL TO IMPORT YOUR DATA.\n",
    "\n",
    "import os\n",
    "\n",
    "# Get the current working directory\n",
    "current_directory = os.getcwd()\n",
    "\n",
    "# Specify the relative path to the CSV file\n",
    "file_name = \"annual_aqi_by_county_2023.csv\"\n",
    "file_path = os.path.join(current_directory, file_name)\n",
    "\n",
    "# Read the CSV file into a Pandas DataFrame\n",
    "df = pd.read_csv(file_path)"
   ]
  },
  {
   "cell_type": "markdown",
   "id": "4b7c9d84",
   "metadata": {},
   "source": [
    "## Step 3: Display the first 5 rows of the dataframe"
   ]
  },
  {
   "cell_type": "code",
   "execution_count": 59,
   "id": "2d7e4ab1",
   "metadata": {},
   "outputs": [
    {
     "data": {
      "text/html": [
       "<div>\n",
       "<style scoped>\n",
       "    .dataframe tbody tr th:only-of-type {\n",
       "        vertical-align: middle;\n",
       "    }\n",
       "\n",
       "    .dataframe tbody tr th {\n",
       "        vertical-align: top;\n",
       "    }\n",
       "\n",
       "    .dataframe thead th {\n",
       "        text-align: right;\n",
       "    }\n",
       "</style>\n",
       "<table border=\"1\" class=\"dataframe\">\n",
       "  <thead>\n",
       "    <tr style=\"text-align: right;\">\n",
       "      <th></th>\n",
       "      <th>State</th>\n",
       "      <th>County</th>\n",
       "      <th>Year</th>\n",
       "      <th>Days with AQI</th>\n",
       "      <th>Good Days</th>\n",
       "      <th>Moderate Days</th>\n",
       "      <th>Unhealthy for Sensitive Groups Days</th>\n",
       "      <th>Unhealthy Days</th>\n",
       "      <th>Very Unhealthy Days</th>\n",
       "      <th>Hazardous Days</th>\n",
       "      <th>Max AQI</th>\n",
       "      <th>90th Percentile AQI</th>\n",
       "      <th>Median AQI</th>\n",
       "      <th>Days CO</th>\n",
       "      <th>Days NO2</th>\n",
       "      <th>Days Ozone</th>\n",
       "      <th>Days PM2.5</th>\n",
       "      <th>Days PM10</th>\n",
       "    </tr>\n",
       "  </thead>\n",
       "  <tbody>\n",
       "    <tr>\n",
       "      <th>0</th>\n",
       "      <td>Alabama</td>\n",
       "      <td>Baldwin</td>\n",
       "      <td>2023</td>\n",
       "      <td>170</td>\n",
       "      <td>143</td>\n",
       "      <td>27</td>\n",
       "      <td>0</td>\n",
       "      <td>0</td>\n",
       "      <td>0</td>\n",
       "      <td>0</td>\n",
       "      <td>90</td>\n",
       "      <td>54</td>\n",
       "      <td>40</td>\n",
       "      <td>0</td>\n",
       "      <td>0</td>\n",
       "      <td>84</td>\n",
       "      <td>86</td>\n",
       "      <td>0</td>\n",
       "    </tr>\n",
       "    <tr>\n",
       "      <th>1</th>\n",
       "      <td>Alabama</td>\n",
       "      <td>Clay</td>\n",
       "      <td>2023</td>\n",
       "      <td>155</td>\n",
       "      <td>109</td>\n",
       "      <td>46</td>\n",
       "      <td>0</td>\n",
       "      <td>0</td>\n",
       "      <td>0</td>\n",
       "      <td>0</td>\n",
       "      <td>83</td>\n",
       "      <td>61</td>\n",
       "      <td>40</td>\n",
       "      <td>0</td>\n",
       "      <td>0</td>\n",
       "      <td>0</td>\n",
       "      <td>155</td>\n",
       "      <td>0</td>\n",
       "    </tr>\n",
       "    <tr>\n",
       "      <th>2</th>\n",
       "      <td>Alabama</td>\n",
       "      <td>DeKalb</td>\n",
       "      <td>2023</td>\n",
       "      <td>212</td>\n",
       "      <td>155</td>\n",
       "      <td>55</td>\n",
       "      <td>2</td>\n",
       "      <td>0</td>\n",
       "      <td>0</td>\n",
       "      <td>0</td>\n",
       "      <td>133</td>\n",
       "      <td>63</td>\n",
       "      <td>43</td>\n",
       "      <td>0</td>\n",
       "      <td>0</td>\n",
       "      <td>141</td>\n",
       "      <td>71</td>\n",
       "      <td>0</td>\n",
       "    </tr>\n",
       "    <tr>\n",
       "      <th>3</th>\n",
       "      <td>Alabama</td>\n",
       "      <td>Elmore</td>\n",
       "      <td>2023</td>\n",
       "      <td>118</td>\n",
       "      <td>102</td>\n",
       "      <td>16</td>\n",
       "      <td>0</td>\n",
       "      <td>0</td>\n",
       "      <td>0</td>\n",
       "      <td>0</td>\n",
       "      <td>90</td>\n",
       "      <td>54</td>\n",
       "      <td>40</td>\n",
       "      <td>0</td>\n",
       "      <td>0</td>\n",
       "      <td>118</td>\n",
       "      <td>0</td>\n",
       "      <td>0</td>\n",
       "    </tr>\n",
       "    <tr>\n",
       "      <th>4</th>\n",
       "      <td>Alabama</td>\n",
       "      <td>Etowah</td>\n",
       "      <td>2023</td>\n",
       "      <td>181</td>\n",
       "      <td>126</td>\n",
       "      <td>55</td>\n",
       "      <td>0</td>\n",
       "      <td>0</td>\n",
       "      <td>0</td>\n",
       "      <td>0</td>\n",
       "      <td>100</td>\n",
       "      <td>64</td>\n",
       "      <td>43</td>\n",
       "      <td>0</td>\n",
       "      <td>0</td>\n",
       "      <td>74</td>\n",
       "      <td>107</td>\n",
       "      <td>0</td>\n",
       "    </tr>\n",
       "  </tbody>\n",
       "</table>\n",
       "</div>"
      ],
      "text/plain": [
       "     State   County  Year  Days with AQI  Good Days  Moderate Days  \\\n",
       "0  Alabama  Baldwin  2023            170        143             27   \n",
       "1  Alabama     Clay  2023            155        109             46   \n",
       "2  Alabama   DeKalb  2023            212        155             55   \n",
       "3  Alabama   Elmore  2023            118        102             16   \n",
       "4  Alabama   Etowah  2023            181        126             55   \n",
       "\n",
       "   Unhealthy for Sensitive Groups Days  Unhealthy Days  Very Unhealthy Days  \\\n",
       "0                                    0               0                    0   \n",
       "1                                    0               0                    0   \n",
       "2                                    2               0                    0   \n",
       "3                                    0               0                    0   \n",
       "4                                    0               0                    0   \n",
       "\n",
       "   Hazardous Days  Max AQI  90th Percentile AQI  Median AQI  Days CO  \\\n",
       "0               0       90                   54          40        0   \n",
       "1               0       83                   61          40        0   \n",
       "2               0      133                   63          43        0   \n",
       "3               0       90                   54          40        0   \n",
       "4               0      100                   64          43        0   \n",
       "\n",
       "   Days NO2  Days Ozone  Days PM2.5  Days PM10  \n",
       "0         0          84          86          0  \n",
       "1         0           0         155          0  \n",
       "2         0         141          71          0  \n",
       "3         0         118           0          0  \n",
       "4         0          74         107          0  "
      ]
     },
     "execution_count": 59,
     "metadata": {},
     "output_type": "execute_result"
    }
   ],
   "source": [
    "# Displaying the first few rows of the DataFrame to get an overview\n",
    "df.head()"
   ]
  },
  {
   "cell_type": "markdown",
   "id": "9359492f",
   "metadata": {},
   "source": [
    "## Data Exploration : What do the individual columns represent."
   ]
  },
  {
   "cell_type": "markdown",
   "id": "95d993ca",
   "metadata": {},
   "source": [
    "[Write your response here. Double-click (or enter) to edit.]\n",
    "\n",
    "- State -\n",
    "- County -\n",
    "- Year - \n",
    "- Days with AQI -\n",
    "- Good Days -\n",
    "- Moderate Days -\n",
    "- Unhealthy for Sensitive Groups Days -\n",
    "- Unhealthy Days -\n",
    "- Very Unhealthy Days -\n",
    "- Hazardous Days -\n",
    "- Max AQI -\n",
    "- 90th Percentile AQI -\n",
    "- Median AQI -\n",
    "- Days CO - \n",
    "- Days NO2 -\n",
    "- Days Ozone -\n",
    "- Days PM2.5 -\n",
    "- Days PM10 -\n"
   ]
  },
  {
   "cell_type": "markdown",
   "id": "f8640ad7",
   "metadata": {},
   "source": [
    "## Exercises\n",
    "\n",
    "### Basic Questions:\n",
    "- What is the average number of \"Days with AQI\" across all counties in the dataset?\n",
    "- What is the maximum value of \"Max AQI\" recorded in any county?\n",
    "- How many counties have \"Good Days\" as the majority category?\n",
    "- What is the median number of \"Days CO\" across all counties?\n",
    "- What is the range of \"Days PM10\" for the given dataset?"
   ]
  },
  {
   "cell_type": "markdown",
   "id": "291ead1a",
   "metadata": {},
   "source": [
    "#### Q1. What is the average number of \"Days with AQI\" across all counties in the dataset?"
   ]
  },
  {
   "cell_type": "code",
   "execution_count": 60,
   "id": "d9d53eb0",
   "metadata": {},
   "outputs": [],
   "source": [
    "### YOUR CODE HERE"
   ]
  },
  {
   "cell_type": "markdown",
   "id": "98c359f1",
   "metadata": {},
   "source": [
    "#### Q2. What is the maximum value of \"Max AQI\" recorded in any county?"
   ]
  },
  {
   "cell_type": "code",
   "execution_count": 61,
   "id": "603e6d3e",
   "metadata": {},
   "outputs": [],
   "source": [
    "### YOUR CODE HERE"
   ]
  },
  {
   "cell_type": "markdown",
   "id": "2cd95952",
   "metadata": {},
   "source": [
    "#### Q3. How many counties have \"Good Days\" as the majority category?"
   ]
  },
  {
   "cell_type": "code",
   "execution_count": 62,
   "id": "fd2021ac",
   "metadata": {},
   "outputs": [],
   "source": [
    "### YOUR CODE HERE"
   ]
  },
  {
   "cell_type": "markdown",
   "id": "0433542e",
   "metadata": {},
   "source": [
    "#### Q4. What is the median number of \"Days CO\" across all counties?"
   ]
  },
  {
   "cell_type": "code",
   "execution_count": 63,
   "id": "7ffa9e17",
   "metadata": {},
   "outputs": [],
   "source": [
    "### YOUR CODE HERE"
   ]
  },
  {
   "cell_type": "markdown",
   "id": "a1dfa5e9",
   "metadata": {},
   "source": [
    "#### Q5. What is the range of \"Days PM10\" for the given dataset?"
   ]
  },
  {
   "cell_type": "code",
   "execution_count": 64,
   "id": "ead1ae72",
   "metadata": {},
   "outputs": [],
   "source": [
    "### YOUR CODE HERE"
   ]
  },
  {
   "cell_type": "markdown",
   "id": "ee3184c9",
   "metadata": {},
   "source": [
    "### Medium Difficulty Questions:\n",
    "\n",
    "- Which county has the highest number of \"Unhealthy Days\"?\n",
    "- What is the 90th percentile AQI value for \"Unhealthy for Sensitive Groups Days\" across all counties?\n",
    "- Calculate the interquartile range (IQR) for the \"Days NO2\" column.\n",
    "- In how many counties does the \"Hazardous Days\" category occur at least once?\n",
    "- What is the correlation between \"Days Ozone\" and \"Days PM2.5\"?"
   ]
  },
  {
   "cell_type": "markdown",
   "id": "3c8fdf1a",
   "metadata": {},
   "source": [
    "#### Q1. Which county has the highest number of \"Unhealthy Days\"?"
   ]
  },
  {
   "cell_type": "code",
   "execution_count": 65,
   "id": "ee771176",
   "metadata": {},
   "outputs": [],
   "source": [
    "### YOUR CODE HERE"
   ]
  },
  {
   "cell_type": "markdown",
   "id": "d7e900b9",
   "metadata": {},
   "source": [
    "#### Q2. What is the 90th percentile AQI value for \"Unhealthy for Sensitive Groups Days\" across all counties?"
   ]
  },
  {
   "cell_type": "code",
   "execution_count": 66,
   "id": "9fa94ff5",
   "metadata": {},
   "outputs": [],
   "source": [
    "### YOUR CODE HERE"
   ]
  },
  {
   "cell_type": "markdown",
   "id": "9fcfdecc",
   "metadata": {},
   "source": [
    "#### Q3. Calculate the interquartile range (IQR) for the \"Days NO2\" column."
   ]
  },
  {
   "cell_type": "code",
   "execution_count": 67,
   "id": "887916a4",
   "metadata": {},
   "outputs": [],
   "source": [
    "### YOUR CODE HERE"
   ]
  },
  {
   "cell_type": "markdown",
   "id": "3420147e",
   "metadata": {},
   "source": [
    "#### Q4. In how many counties does the \"Hazardous Days\" category occur at least once?"
   ]
  },
  {
   "cell_type": "code",
   "execution_count": 68,
   "id": "012e0755",
   "metadata": {},
   "outputs": [],
   "source": [
    "### YOUR CODE HERE"
   ]
  },
  {
   "cell_type": "markdown",
   "id": "236419df",
   "metadata": {},
   "source": [
    "#### Q5. What is the correlation between \"Days Ozone\" and \"Days PM2.5\"?"
   ]
  },
  {
   "cell_type": "code",
   "execution_count": 69,
   "id": "54a49ce5",
   "metadata": {},
   "outputs": [],
   "source": [
    "### YOUR CODE HERE"
   ]
  },
  {
   "cell_type": "markdown",
   "id": "36595f93",
   "metadata": {},
   "source": [
    "### Difficult Questions:\n",
    "\n",
    "- For counties with more than 200 \"Days with AQI,\" what is the average \"Median AQI\"?\n",
    "- Identify the county with the highest percentage of \"Very Unhealthy Days\" relative to the total \"Days with AQI.\"\n",
    "- Perform a t-test to compare the means of \"Days Ozone\" and \"Days PM2.5\" across all counties.\n",
    "- Create a box plot for the distribution of \"Days CO\" and \"Days NO2\" to visualize their spread.\n",
    "- Using linear regression, predict the \"Days PM10\" based on the \"Days PM2.5\" for a selected county."
   ]
  },
  {
   "cell_type": "markdown",
   "id": "b77c1d5a",
   "metadata": {},
   "source": [
    "#### Q1. For counties with more than 200 \"Days with AQI,\" what is the average \"Median AQI\"?"
   ]
  },
  {
   "cell_type": "code",
   "execution_count": 70,
   "id": "c9eb3509",
   "metadata": {},
   "outputs": [],
   "source": [
    "### YOUR CODE HERE"
   ]
  },
  {
   "cell_type": "markdown",
   "id": "f4fac013",
   "metadata": {},
   "source": [
    "#### Q2. Identify the county with the highest percentage of \"Very Unhealthy Days\" relative to the total \"Days with AQI.\""
   ]
  },
  {
   "cell_type": "code",
   "execution_count": 71,
   "id": "c25a2ef9",
   "metadata": {},
   "outputs": [],
   "source": [
    "### YOUR CODE HERE"
   ]
  },
  {
   "cell_type": "markdown",
   "id": "9519a5b0",
   "metadata": {},
   "source": [
    "#### Q3. Perform a t-test to compare the means of \"Days Ozone\" and \"Days PM2.5\" across all counties."
   ]
  },
  {
   "cell_type": "code",
   "execution_count": 72,
   "id": "33b7be95",
   "metadata": {},
   "outputs": [],
   "source": [
    "### YOUR CODE HERE"
   ]
  },
  {
   "cell_type": "markdown",
   "id": "78930d73",
   "metadata": {},
   "source": [
    "#### Q4. Create a box plot for the distribution of \"Days CO\" and \"Days NO2\" to visualize their spread."
   ]
  },
  {
   "cell_type": "code",
   "execution_count": 73,
   "id": "73f4de6f",
   "metadata": {},
   "outputs": [],
   "source": [
    "### YOUR CODE HERE"
   ]
  },
  {
   "cell_type": "markdown",
   "id": "6796337e",
   "metadata": {},
   "source": [
    "#### Q5. Using linear regression, predict the \"Days PM10\" based on the \"Days PM2.5\" for a selected county."
   ]
  },
  {
   "cell_type": "code",
   "execution_count": 74,
   "id": "616f388d",
   "metadata": {},
   "outputs": [],
   "source": [
    "### YOUR CODE HERE"
   ]
  },
  {
   "cell_type": "markdown",
   "id": "e44b9d01",
   "metadata": {},
   "source": [
    "## Conclusion\n",
    "\n",
    "In this Descriptive Statistics Mastery Exercise, we embarked on a comprehensive exploration of the \"aqi_by_county_2023\" dataset, unraveling key insights into air quality across different counties. Through a series of questions, we delved into basic, medium difficulty, and challenging aspects, employing Python descriptive statistics to extract valuable information.\n",
    "\n",
    "Our journey began with fundamental questions, providing an overview of averages, ranges, and counts. As we progressed to medium difficulty questions, we navigated through percentile calculations, interquartile ranges, and correlations between air quality metrics. The exercise concluded with advanced challenges, including statistical tests, visualizations, and predictive modeling.\n",
    "\n",
    "By engaging in this exercise, you have honed your skills in utilizing Pandas, NumPy, and Matplotlib to analyze and interpret data. Descriptive statistics served as powerful tools for summarizing, visualizing, and drawing meaningful conclusions about air quality dynamics.\n",
    "\n",
    "This exercise not only enhanced your proficiency in Python for statistical analysis but also equipped you with practical insights into the factors influencing air quality across diverse counties. Your ability to pose and answer questions using descriptive statistics is a valuable skill applicable to a wide range of data analysis scenarios.\n",
    "\n",
    "Continue exploring datasets, asking pertinent questions, and applying statistical techniques to gain deeper insights into the world of data analysis. Congratulations on completing this exercise, and may your data exploration journey continue to be both rewarding and enlightening!"
   ]
  }
 ],
 "metadata": {
  "kernelspec": {
   "display_name": "Python 3 (ipykernel)",
   "language": "python",
   "name": "python3"
  },
  "language_info": {
   "codemirror_mode": {
    "name": "ipython",
    "version": 3
   },
   "file_extension": ".py",
   "mimetype": "text/x-python",
   "name": "python",
   "nbconvert_exporter": "python",
   "pygments_lexer": "ipython3",
   "version": "3.11.5"
  }
 },
 "nbformat": 4,
 "nbformat_minor": 5
}
