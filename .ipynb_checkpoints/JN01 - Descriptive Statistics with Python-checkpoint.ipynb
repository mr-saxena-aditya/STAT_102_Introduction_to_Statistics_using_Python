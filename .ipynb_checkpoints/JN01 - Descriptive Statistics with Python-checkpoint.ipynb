{
 "cells": [
  {
   "cell_type": "markdown",
   "id": "01f05766",
   "metadata": {},
   "source": [
    "# JN01 - Descriptive Statistics with Python"
   ]
  },
  {
   "cell_type": "markdown",
   "id": "0f137f6a",
   "metadata": {},
   "source": [
    "## Introduction\n",
    "\n",
    "Welcome to this Jupyter Notebook project where we delve into the fascinating realm of descriptive statistics applied to the Indian Premier League (IPL) auction dataset. As your guide through this statistical exploration, I invite you to witness the meticulous examination and analysis of the numerical characteristics that define the dynamics of IPL player auctions. Through the lens of descriptive statistics, we will unravel key insights into the central tendencies, variabilities, and distributions within the auction data. Prepare to embark on a journey where statistical measures such as mean, median, mode, and standard deviation become our tools for unraveling the intricacies of team strategies, player valuations, and the overarching trends shaping one of the most dynamic spectacles in the world of cricket. May this endeavor not only deepen your appreciation for the statistical intricacies of the IPL but also sharpen your analytical skills in the domain of sports data."
   ]
  },
  {
   "cell_type": "markdown",
   "id": "8b0d6d6a",
   "metadata": {},
   "source": [
    "## Import packages and libraries\n",
    "\n",
    "Before getting started, we will need to import all the required libraries and extensions. Throughout the course, we will be using pandas and numpy for operations and matplotlib for plotting."
   ]
  },
  {
   "cell_type": "code",
   "execution_count": 2,
   "id": "df288dcd",
   "metadata": {},
   "outputs": [],
   "source": [
    "import numpy as np\n",
    "import pandas as pd\n",
    "import matplotlib.pyplot as plt"
   ]
  },
  {
   "cell_type": "markdown",
   "id": "4667f2b4",
   "metadata": {},
   "source": [
    "## Opening the Dataset using Pandas\n",
    "\n",
    "In this project, our first step involves opening the IPL auction dataset file using the powerful Pandas library in Python. The following code snippet demonstrates how to read the dataset and load it into a Pandas DataFrame, setting the stage for our descriptive statistical analysis:"
   ]
  },
  {
   "cell_type": "code",
   "execution_count": 4,
   "id": "d8ad1677",
   "metadata": {},
   "outputs": [],
   "source": [
    "# Specifying the file path \n",
    "# file_path = \"path/to/your/IPL_auction_dataset.csv\"  \n",
    "# Replace with the actual file path\n",
    "\n",
    "file_path = \"auction.csv\" # The file is in the present working directory\n",
    "\n",
    "# Reading the dataset into a Pandas DataFrame\n",
    "ipl_auction_data = pd.read_csv(file_path)"
   ]
  },
  {
   "cell_type": "markdown",
   "id": "31d7ba6e",
   "metadata": {},
   "source": [
    "## Explore the data\n",
    "\n",
    "Let's start with the head()function to get a quick overview of the dataset. Recall that head() will return as many rows of data as you input into the variable field."
   ]
  },
  {
   "cell_type": "code",
   "execution_count": 5,
   "id": "4265d852",
   "metadata": {},
   "outputs": [
    {
     "data": {
      "text/html": [
       "<div>\n",
       "<style scoped>\n",
       "    .dataframe tbody tr th:only-of-type {\n",
       "        vertical-align: middle;\n",
       "    }\n",
       "\n",
       "    .dataframe tbody tr th {\n",
       "        vertical-align: top;\n",
       "    }\n",
       "\n",
       "    .dataframe thead th {\n",
       "        text-align: right;\n",
       "    }\n",
       "</style>\n",
       "<table border=\"1\" class=\"dataframe\">\n",
       "  <thead>\n",
       "    <tr style=\"text-align: right;\">\n",
       "      <th></th>\n",
       "      <th>Unnamed: 0</th>\n",
       "      <th>Country</th>\n",
       "      <th>Player</th>\n",
       "      <th>Team</th>\n",
       "      <th>Base price</th>\n",
       "      <th>Winning bid</th>\n",
       "      <th>Year</th>\n",
       "    </tr>\n",
       "  </thead>\n",
       "  <tbody>\n",
       "    <tr>\n",
       "      <th>0</th>\n",
       "      <td>0</td>\n",
       "      <td>Guyana</td>\n",
       "      <td>Christopher Barnwell</td>\n",
       "      <td>Royal Challengers Bangalore</td>\n",
       "      <td>30.5</td>\n",
       "      <td>30.5</td>\n",
       "      <td>2013</td>\n",
       "    </tr>\n",
       "    <tr>\n",
       "      <th>1</th>\n",
       "      <td>1</td>\n",
       "      <td>South Africa</td>\n",
       "      <td>Johan Botha</td>\n",
       "      <td>Delhi Daredevils</td>\n",
       "      <td>183.0</td>\n",
       "      <td>274.5</td>\n",
       "      <td>2013</td>\n",
       "    </tr>\n",
       "    <tr>\n",
       "      <th>2</th>\n",
       "      <td>2</td>\n",
       "      <td>Australia</td>\n",
       "      <td>Daniel Christian</td>\n",
       "      <td>Royal Challengers Bangalore</td>\n",
       "      <td>61.0</td>\n",
       "      <td>61.0</td>\n",
       "      <td>2013</td>\n",
       "    </tr>\n",
       "    <tr>\n",
       "      <th>3</th>\n",
       "      <td>3</td>\n",
       "      <td>Australia</td>\n",
       "      <td>Michael Clarke</td>\n",
       "      <td>Pune Warriors India</td>\n",
       "      <td>244.0</td>\n",
       "      <td>244.0</td>\n",
       "      <td>2013</td>\n",
       "    </tr>\n",
       "    <tr>\n",
       "      <th>4</th>\n",
       "      <td>4</td>\n",
       "      <td>Australia</td>\n",
       "      <td>Nathan Coulter-Nile</td>\n",
       "      <td>Mumbai Indians</td>\n",
       "      <td>61.0</td>\n",
       "      <td>274.5</td>\n",
       "      <td>2013</td>\n",
       "    </tr>\n",
       "  </tbody>\n",
       "</table>\n",
       "</div>"
      ],
      "text/plain": [
       "   Unnamed: 0       Country                Player  \\\n",
       "0           0        Guyana  Christopher Barnwell   \n",
       "1           1  South Africa           Johan Botha   \n",
       "2           2     Australia      Daniel Christian   \n",
       "3           3     Australia        Michael Clarke   \n",
       "4           4     Australia   Nathan Coulter-Nile   \n",
       "\n",
       "                          Team  Base price Winning bid  Year  \n",
       "0  Royal Challengers Bangalore        30.5        30.5  2013  \n",
       "1             Delhi Daredevils       183.0       274.5  2013  \n",
       "2  Royal Challengers Bangalore        61.0        61.0  2013  \n",
       "3          Pune Warriors India       244.0       244.0  2013  \n",
       "4               Mumbai Indians        61.0       274.5  2013  "
      ]
     },
     "execution_count": 5,
     "metadata": {},
     "output_type": "execute_result"
    }
   ],
   "source": [
    "# Displaying the first few rows of the dataset to get an overview\n",
    "\n",
    "ipl_auction_data.head()"
   ]
  },
  {
   "cell_type": "code",
   "execution_count": 7,
   "id": "1729ef2b",
   "metadata": {
    "scrolled": true
   },
   "outputs": [
    {
     "data": {
      "text/html": [
       "<div>\n",
       "<style scoped>\n",
       "    .dataframe tbody tr th:only-of-type {\n",
       "        vertical-align: middle;\n",
       "    }\n",
       "\n",
       "    .dataframe tbody tr th {\n",
       "        vertical-align: top;\n",
       "    }\n",
       "\n",
       "    .dataframe thead th {\n",
       "        text-align: right;\n",
       "    }\n",
       "</style>\n",
       "<table border=\"1\" class=\"dataframe\">\n",
       "  <thead>\n",
       "    <tr style=\"text-align: right;\">\n",
       "      <th></th>\n",
       "      <th>Unnamed: 0</th>\n",
       "      <th>Country</th>\n",
       "      <th>Player</th>\n",
       "      <th>Team</th>\n",
       "      <th>Base price</th>\n",
       "      <th>Winning bid</th>\n",
       "      <th>Year</th>\n",
       "    </tr>\n",
       "  </thead>\n",
       "  <tbody>\n",
       "    <tr>\n",
       "      <th>0</th>\n",
       "      <td>0</td>\n",
       "      <td>Guyana</td>\n",
       "      <td>Christopher Barnwell</td>\n",
       "      <td>Royal Challengers Bangalore</td>\n",
       "      <td>30.5</td>\n",
       "      <td>30.5</td>\n",
       "      <td>2013</td>\n",
       "    </tr>\n",
       "    <tr>\n",
       "      <th>1</th>\n",
       "      <td>1</td>\n",
       "      <td>South Africa</td>\n",
       "      <td>Johan Botha</td>\n",
       "      <td>Delhi Daredevils</td>\n",
       "      <td>183.0</td>\n",
       "      <td>274.5</td>\n",
       "      <td>2013</td>\n",
       "    </tr>\n",
       "    <tr>\n",
       "      <th>2</th>\n",
       "      <td>2</td>\n",
       "      <td>Australia</td>\n",
       "      <td>Daniel Christian</td>\n",
       "      <td>Royal Challengers Bangalore</td>\n",
       "      <td>61.0</td>\n",
       "      <td>61.0</td>\n",
       "      <td>2013</td>\n",
       "    </tr>\n",
       "    <tr>\n",
       "      <th>3</th>\n",
       "      <td>3</td>\n",
       "      <td>Australia</td>\n",
       "      <td>Michael Clarke</td>\n",
       "      <td>Pune Warriors India</td>\n",
       "      <td>244.0</td>\n",
       "      <td>244.0</td>\n",
       "      <td>2013</td>\n",
       "    </tr>\n",
       "    <tr>\n",
       "      <th>4</th>\n",
       "      <td>4</td>\n",
       "      <td>Australia</td>\n",
       "      <td>Nathan Coulter-Nile</td>\n",
       "      <td>Mumbai Indians</td>\n",
       "      <td>61.0</td>\n",
       "      <td>274.5</td>\n",
       "      <td>2013</td>\n",
       "    </tr>\n",
       "    <tr>\n",
       "      <th>5</th>\n",
       "      <td>5</td>\n",
       "      <td>Sri Lanka</td>\n",
       "      <td>Akila Dananjaya</td>\n",
       "      <td>Chennai Super Kings</td>\n",
       "      <td>12.2</td>\n",
       "      <td>12.2</td>\n",
       "      <td>2013</td>\n",
       "    </tr>\n",
       "    <tr>\n",
       "      <th>6</th>\n",
       "      <td>6</td>\n",
       "      <td>South Africa</td>\n",
       "      <td>Quinton de Kock</td>\n",
       "      <td>Sunrisers Hyderabad</td>\n",
       "      <td>12.2</td>\n",
       "      <td>12.2</td>\n",
       "      <td>2013</td>\n",
       "    </tr>\n",
       "    <tr>\n",
       "      <th>7</th>\n",
       "      <td>7</td>\n",
       "      <td>Barbados</td>\n",
       "      <td>Fidel Edwards</td>\n",
       "      <td>Rajasthan Royals</td>\n",
       "      <td>61.0</td>\n",
       "      <td>128.1</td>\n",
       "      <td>2013</td>\n",
       "    </tr>\n",
       "    <tr>\n",
       "      <th>8</th>\n",
       "      <td>8</td>\n",
       "      <td>Australia</td>\n",
       "      <td>James Faulkner</td>\n",
       "      <td>Rajasthan Royals</td>\n",
       "      <td>61.0</td>\n",
       "      <td>244.0</td>\n",
       "      <td>2013</td>\n",
       "    </tr>\n",
       "    <tr>\n",
       "      <th>9</th>\n",
       "      <td>9</td>\n",
       "      <td>India</td>\n",
       "      <td>Manpreet Gony</td>\n",
       "      <td>Kings XI Punjab</td>\n",
       "      <td>122.0</td>\n",
       "      <td>305.0</td>\n",
       "      <td>2013</td>\n",
       "    </tr>\n",
       "  </tbody>\n",
       "</table>\n",
       "</div>"
      ],
      "text/plain": [
       "   Unnamed: 0       Country                Player  \\\n",
       "0           0        Guyana  Christopher Barnwell   \n",
       "1           1  South Africa           Johan Botha   \n",
       "2           2     Australia      Daniel Christian   \n",
       "3           3     Australia        Michael Clarke   \n",
       "4           4     Australia   Nathan Coulter-Nile   \n",
       "5           5     Sri Lanka       Akila Dananjaya   \n",
       "6           6  South Africa       Quinton de Kock   \n",
       "7           7      Barbados         Fidel Edwards   \n",
       "8           8     Australia        James Faulkner   \n",
       "9           9         India         Manpreet Gony   \n",
       "\n",
       "                          Team  Base price Winning bid  Year  \n",
       "0  Royal Challengers Bangalore        30.5        30.5  2013  \n",
       "1             Delhi Daredevils       183.0       274.5  2013  \n",
       "2  Royal Challengers Bangalore        61.0        61.0  2013  \n",
       "3          Pune Warriors India       244.0       244.0  2013  \n",
       "4               Mumbai Indians        61.0       274.5  2013  \n",
       "5          Chennai Super Kings        12.2        12.2  2013  \n",
       "6          Sunrisers Hyderabad        12.2        12.2  2013  \n",
       "7             Rajasthan Royals        61.0       128.1  2013  \n",
       "8             Rajasthan Royals        61.0       244.0  2013  \n",
       "9              Kings XI Punjab       122.0       305.0  2013  "
      ]
     },
     "execution_count": 7,
     "metadata": {},
     "output_type": "execute_result"
    }
   ],
   "source": [
    "# Displaying the first 10 rows of the dataset to get an overview\n",
    "\n",
    "ipl_auction_data.head(10)"
   ]
  },
  {
   "cell_type": "markdown",
   "id": "a93ccf31",
   "metadata": {},
   "source": [
    "The dataset provides information on players, their countries, associated teams, base prices, winning bids, and the respective years for the Indian Premier League (IPL) auctions, spanning various years from 2013 onwards."
   ]
  },
  {
   "cell_type": "markdown",
   "id": "902cf6c3",
   "metadata": {},
   "source": [
    "## Use describe() to compute descriptive stats\n",
    "Now that we have a better understanding of the dataset, let's use Python to compute descriptive stats.\n",
    "\n",
    "When computing descriptive stats in Python, the most useful function to know is describe(). Data professionals use the describe() function as a convenient way to calculate many key stats all at once. For a numeric column, describe() gives you the following output:\n",
    "\n",
    "- count: Number of non-NA/null observations\n",
    "- mean: The arithmetic average\n",
    "- std: The standard deviation\n",
    "- min: The smallest (minimum) value\n",
    "- 25%: The first quartile (25th percentile)\n",
    "- 50%: The median (50th percentile)\n",
    "- 75%: The third quartile (75th percentile)\n",
    "- max: The largest (maximum) value\n",
    "\n",
    "- Reference: pandas.DataFrame.describe"
   ]
  },
  {
   "cell_type": "markdown",
   "id": "5dfbf1fd",
   "metadata": {},
   "source": [
    "## Interesting Stat in the Dataset - Winning Bid\n",
    "\n",
    "One of the main interesting numeric statistics in this dataset is the \"Winning bid\" column, which represents the final bid amount at which each player was successfully acquired by a team during the IPL auction. Analyzing this column can reveal insights into the distribution of player values and the financial dynamics of team bidding strategies. Descriptive statistics such as the mean, median, and standard deviation of the winning bids could provide a comprehensive understanding of the overall pricing landscape in the IPL auctions."
   ]
  },
  {
   "cell_type": "code",
   "execution_count": 8,
   "id": "ca88cf1c",
   "metadata": {},
   "outputs": [
    {
     "name": "stdout",
     "output_type": "stream",
     "text": [
      "count     1052\n",
      "unique     128\n",
      "top         20\n",
      "freq       199\n",
      "Name: Winning bid, dtype: object\n"
     ]
    }
   ],
   "source": [
    "# Assuming 'ipl_auction_data' is your DataFrame containing the IPL auction dataset\n",
    "winning_bid_stats = ipl_auction_data['Winning bid'].describe()\n",
    "\n",
    "# Displaying the descriptive statistics\n",
    "print(winning_bid_stats)\n"
   ]
  },
  {
   "cell_type": "markdown",
   "id": "1f9b93a9",
   "metadata": {},
   "source": [
    "## Another Interesting Stat in the Dataset - Base Price\n",
    "\n",
    "Another interesting statistic in this dataset is the \"Base price\" column. The base price represents the initial amount set by the auction organizers as the starting bid for each player. Analyzing this column can offer insights into the perceived value of players by the auction organizers and the variation in starting points for player bidding. You can use the describe() method similarly for the \"Base price\" column to understand its distribution and key summary statistics. This would provide information about the range of initial valuations and potential disparities in perceived player values before the auction process begins."
   ]
  },
  {
   "cell_type": "code",
   "execution_count": 9,
   "id": "76de6706",
   "metadata": {},
   "outputs": [
    {
     "name": "stdout",
     "output_type": "stream",
     "text": [
      "count    1052.000000\n",
      "mean       65.252091\n",
      "std        63.278684\n",
      "min        10.000000\n",
      "25%        20.000000\n",
      "50%        30.000000\n",
      "75%       100.000000\n",
      "max       244.000000\n",
      "Name: Base price, dtype: float64\n"
     ]
    }
   ],
   "source": [
    "# Assuming 'ipl_auction_data' is your DataFrame containing the IPL auction dataset\n",
    "base_price_stats = ipl_auction_data['Base price'].describe()\n",
    "\n",
    "# Displaying the descriptive statistics\n",
    "print(base_price_stats)"
   ]
  },
  {
   "cell_type": "code",
   "execution_count": 21,
   "id": "204a2350",
   "metadata": {},
   "outputs": [
    {
     "name": "stdout",
     "output_type": "stream",
     "text": [
      "count               1052\n",
      "unique               593\n",
      "top       Jaydev Unadkat\n",
      "freq                  10\n",
      "Name: Player, dtype: object\n"
     ]
    }
   ],
   "source": [
    "# Assuming 'ipl_auction_data' is your DataFrame containing the IPL auction dataset\n",
    "player_stats = ipl_auction_data['Player'].describe()\n",
    "\n",
    "# Displaying the descriptive statistics\n",
    "print(player_stats)"
   ]
  },
  {
   "cell_type": "markdown",
   "id": "7f57968d",
   "metadata": {},
   "source": [
    "## Functions for stats\n",
    "\n",
    "The describe() function is also useful because it reveals a variety of key stats all at once. Python also has separate functions for the mean, median, standard deviation, minimum, and maximum. Earlier in the program, you used mean() and median() to detect outliers. These individual functions are also useful if you want to do further computations based on descriptive stats. For example, you can use the min() and max() functions together to compute the range of your data."
   ]
  },
  {
   "cell_type": "markdown",
   "id": "0d8c0f37",
   "metadata": {},
   "source": [
    "## Use max() and min() to compute range\n",
    "\n",
    "\n",
    "Utilizing the \"Base price\" and \"Winning bid\" columns in the IPL auction dataset, we aim to calculate the range using Python. The range, defined as the difference between the largest and smallest values in a dataset (i.e., range = max - min), provides insights into the variability of values within these columns. Below is a Python code snippet demonstrating the calculation:"
   ]
  },
  {
   "cell_type": "code",
   "execution_count": 10,
   "id": "b9685dd1",
   "metadata": {},
   "outputs": [
    {
     "ename": "TypeError",
     "evalue": "unsupported operand type(s) for -: 'str' and 'str'",
     "output_type": "error",
     "traceback": [
      "\u001b[0;31m---------------------------------------------------------------------------\u001b[0m",
      "\u001b[0;31mTypeError\u001b[0m                                 Traceback (most recent call last)",
      "Cell \u001b[0;32mIn[10], line 7\u001b[0m\n\u001b[1;32m      4\u001b[0m base_price_range \u001b[38;5;241m=\u001b[39m ipl_auction_data[\u001b[38;5;124m'\u001b[39m\u001b[38;5;124mBase price\u001b[39m\u001b[38;5;124m'\u001b[39m]\u001b[38;5;241m.\u001b[39mmax() \u001b[38;5;241m-\u001b[39m ipl_auction_data[\u001b[38;5;124m'\u001b[39m\u001b[38;5;124mBase price\u001b[39m\u001b[38;5;124m'\u001b[39m]\u001b[38;5;241m.\u001b[39mmin()\n\u001b[1;32m      6\u001b[0m \u001b[38;5;66;03m# Calculate the range for the 'Winning bid' column\u001b[39;00m\n\u001b[0;32m----> 7\u001b[0m winning_bid_range \u001b[38;5;241m=\u001b[39m ipl_auction_data[\u001b[38;5;124m'\u001b[39m\u001b[38;5;124mWinning bid\u001b[39m\u001b[38;5;124m'\u001b[39m]\u001b[38;5;241m.\u001b[39mmax() \u001b[38;5;241m-\u001b[39m ipl_auction_data[\u001b[38;5;124m'\u001b[39m\u001b[38;5;124mWinning bid\u001b[39m\u001b[38;5;124m'\u001b[39m]\u001b[38;5;241m.\u001b[39mmin()\n\u001b[1;32m      9\u001b[0m \u001b[38;5;66;03m# Display the calculated ranges\u001b[39;00m\n\u001b[1;32m     10\u001b[0m \u001b[38;5;28mprint\u001b[39m(\u001b[38;5;124mf\u001b[39m\u001b[38;5;124m\"\u001b[39m\u001b[38;5;124mRange for Base Price: \u001b[39m\u001b[38;5;132;01m{\u001b[39;00mbase_price_range\u001b[38;5;132;01m}\u001b[39;00m\u001b[38;5;124m\"\u001b[39m)\n",
      "\u001b[0;31mTypeError\u001b[0m: unsupported operand type(s) for -: 'str' and 'str'"
     ]
    }
   ],
   "source": [
    "# Assuming 'ipl_auction_data' is your DataFrame containing the IPL auction dataset\n",
    "\n",
    "# Calculate the range for the 'Base price' column\n",
    "base_price_range = ipl_auction_data['Base price'].max() - ipl_auction_data['Base price'].min()\n",
    "\n",
    "# Calculate the range for the 'Winning bid' column\n",
    "winning_bid_range = ipl_auction_data['Winning bid'].max() - ipl_auction_data['Winning bid'].min()\n",
    "\n",
    "# Display the calculated ranges\n",
    "print(f\"Range for Base Price: {base_price_range}\")\n",
    "print(f\"Range for Winning Bid: {winning_bid_range}\")\n"
   ]
  },
  {
   "cell_type": "markdown",
   "id": "f673a17c",
   "metadata": {},
   "source": [
    "### Oops! Removing the Error\n",
    "\n",
    "The error you encountered, TypeError: unsupported operand type(s) for -: 'str' and 'str', indicates that the subtraction operation (-) is not supported between two string objects. In this case, the columns \"Base price\" and \"Winning bid\" are treated as strings, and attempting to perform arithmetic operations directly on them results in a TypeError.\n",
    "\n",
    "To fix this issue, we need to ensure that these columns are treated as numeric types rather than strings."
   ]
  },
  {
   "cell_type": "code",
   "execution_count": 12,
   "id": "23b25380",
   "metadata": {},
   "outputs": [
    {
     "name": "stdout",
     "output_type": "stream",
     "text": [
      "Range for Base Price: 234.0\n",
      "Range for Winning Bid: 1615.0\n"
     ]
    }
   ],
   "source": [
    "# Assuming 'ipl_auction_data' is your DataFrame containing the IPL auction dataset\n",
    "\n",
    "# Convert 'Base price' and 'Winning bid' columns to numeric\n",
    "ipl_auction_data['Base price'] = pd.to_numeric(ipl_auction_data['Base price'], errors='coerce')\n",
    "ipl_auction_data['Winning bid'] = pd.to_numeric(ipl_auction_data['Winning bid'], errors='coerce')\n",
    "\n",
    "# Calculate the range for the 'Base price' column\n",
    "base_price_range = ipl_auction_data['Base price'].max() - ipl_auction_data['Base price'].min()\n",
    "\n",
    "# Calculate the range for the 'Winning bid' column\n",
    "winning_bid_range = ipl_auction_data['Winning bid'].max() - ipl_auction_data['Winning bid'].min()\n",
    "\n",
    "# Display the calculated ranges\n",
    "print(f\"Range for Base Price: {base_price_range}\")\n",
    "print(f\"Range for Winning Bid: {winning_bid_range}\")\n"
   ]
  },
  {
   "cell_type": "markdown",
   "id": "a95daaeb",
   "metadata": {},
   "source": [
    "The reported ranges, 234.0 for \"Base Price\" and 1615.0 for \"Winning Bid,\" represent the spread or variability in initial valuations and final auction prices, respectively, within the Indian Premier League (IPL) dataset, showcasing the diversity of financial dynamics in player auctions."
   ]
  },
  {
   "cell_type": "markdown",
   "id": "04afd06b",
   "metadata": {},
   "source": [
    "## Conclusion\n",
    "\n",
    "In this Jupyter Notebook project, we delved into the numerical intricacies of the IPL auction dataset, exploring player details, team associations, base prices, and winning bids from 2013 onwards. Key highlights included the analysis of the \"Winning bid\" and \"Base Price\" columns, providing insights into player valuations and initial bidding strategies. Descriptive statistics enhanced our understanding of the pricing landscape, with mean, median, and range offering valuable perspectives. We also addressed and resolved a crucial error, ensuring accuracy in our computations. This journey illuminated the dynamics of IPL auctions, offering a deeper appreciation for statistical nuances and analytical skills in sports data analysis."
   ]
  },
  {
   "cell_type": "code",
   "execution_count": null,
   "id": "f3ab026e",
   "metadata": {},
   "outputs": [],
   "source": []
  }
 ],
 "metadata": {
  "kernelspec": {
   "display_name": "Python 3 (ipykernel)",
   "language": "python",
   "name": "python3"
  },
  "language_info": {
   "codemirror_mode": {
    "name": "ipython",
    "version": 3
   },
   "file_extension": ".py",
   "mimetype": "text/x-python",
   "name": "python",
   "nbconvert_exporter": "python",
   "pygments_lexer": "ipython3",
   "version": "3.11.5"
  }
 },
 "nbformat": 4,
 "nbformat_minor": 5
}
