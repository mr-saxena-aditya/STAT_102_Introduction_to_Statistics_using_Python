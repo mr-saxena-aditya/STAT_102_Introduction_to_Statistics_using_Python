{
 "cells": [
  {
   "cell_type": "markdown",
   "id": "57887b7c",
   "metadata": {},
   "source": [
    "# Exercise: Exploring Air Quality Index (AQI) by County (2023)\n",
    "\n",
    "### Introduction\n",
    "\n",
    "Welcome to the Descriptive Statistics Mastery Exercise! In this exercise, we will delve into the \"aqi_by_county_2023\" dataset, which contains information about the Air Quality Index (AQI) across different counties for the year 2023. The AQI is a crucial metric that quantifies the quality of the air we breathe, considering various pollutants. Through this exercise, you will sharpen your skills in descriptive statistics, exploring key aspects of the dataset to gain insights into air quality variations.\n",
    "\n",
    "### Dataset Information:\n",
    "\n",
    "Dataset Name: annual_aqi_by_county_2023.csv\n",
    "    \n",
    "Columns: State, County, Year, Days with AQI, Good Days, Moderate Days, Unhealthy for Sensitive Groups Days, Unhealthy Days, Very Unhealthy Days, Hazardous Days, Max AQI, 90th Percentile AQI, Median AQI, Days CO, Days NO2, Days Ozone, Days PM2.5, Days PM10\n",
    "\n",
    "    \n",
    "Rows: Each row represents AQI data for a specific county.\n",
    "    \n",
    "### Objective:\n",
    "\n",
    "Explore and analyze the AQI dataset using descriptive statistics to understand the central tendencies, variabilities, and distributions of air quality across different counties. This exercise will cover mean, median, range, quartiles, and more, providing a comprehensive overview of the air quality landscape in 2023.\n",
    "\n",
    "### Tools:\n",
    "You may use Pandas, NumPy, and Matplotlib for data manipulation, calculations, and visualization.\n",
    "\n",
    "Now, let's dive into the exercises and uncover valuable insights from the AQI dataset!"
   ]
  },
  {
   "cell_type": "markdown",
   "id": "6e7d7e07",
   "metadata": {},
   "source": [
    "## Step 1 : Import the relevant files\n",
    "\n",
    "Import the relevant Python libraries `pandas` and `numpy`."
   ]
  },
  {
   "cell_type": "code",
   "execution_count": 111,
   "id": "b1d3d5f3",
   "metadata": {},
   "outputs": [],
   "source": [
    "# Import relevant Python libraries.\n",
    "\n",
    "### YOUR CODE HERE ###\n",
    "\n",
    "import pandas as pd\n",
    "import matplotlib.pyplot as plt\n",
    "from scipy.stats import ttest_ind"
   ]
  },
  {
   "cell_type": "markdown",
   "id": "a92d07c9",
   "metadata": {},
   "source": [
    "## Step 2: Import the Data from the file into a dataframe\n",
    "\n"
   ]
  },
  {
   "cell_type": "code",
   "execution_count": 112,
   "id": "f4e980f2",
   "metadata": {},
   "outputs": [],
   "source": [
    "# RUN THIS CELL TO IMPORT YOUR DATA.\n",
    "\n",
    "import os\n",
    "\n",
    "# Get the current working directory\n",
    "current_directory = os.getcwd()\n",
    "\n",
    "# Specify the relative path to the CSV file\n",
    "file_name = \"annual_aqi_by_county_2023.csv\"\n",
    "file_path = os.path.join(current_directory, file_name)\n",
    "\n",
    "# Read the CSV file into a Pandas DataFrame\n",
    "df = pd.read_csv(file_path)"
   ]
  },
  {
   "cell_type": "markdown",
   "id": "4db57bfe",
   "metadata": {},
   "source": [
    "## Step 3: Display the first 5 rows of the dataframe"
   ]
  },
  {
   "cell_type": "code",
   "execution_count": 136,
   "id": "e650fc37",
   "metadata": {},
   "outputs": [
    {
     "data": {
      "text/html": [
       "<div>\n",
       "<style scoped>\n",
       "    .dataframe tbody tr th:only-of-type {\n",
       "        vertical-align: middle;\n",
       "    }\n",
       "\n",
       "    .dataframe tbody tr th {\n",
       "        vertical-align: top;\n",
       "    }\n",
       "\n",
       "    .dataframe thead th {\n",
       "        text-align: right;\n",
       "    }\n",
       "</style>\n",
       "<table border=\"1\" class=\"dataframe\">\n",
       "  <thead>\n",
       "    <tr style=\"text-align: right;\">\n",
       "      <th></th>\n",
       "      <th>State</th>\n",
       "      <th>County</th>\n",
       "      <th>Year</th>\n",
       "      <th>Days with AQI</th>\n",
       "      <th>Good Days</th>\n",
       "      <th>Moderate Days</th>\n",
       "      <th>Unhealthy for Sensitive Groups Days</th>\n",
       "      <th>Unhealthy Days</th>\n",
       "      <th>Very Unhealthy Days</th>\n",
       "      <th>Hazardous Days</th>\n",
       "      <th>Max AQI</th>\n",
       "      <th>90th Percentile AQI</th>\n",
       "      <th>Median AQI</th>\n",
       "      <th>Days CO</th>\n",
       "      <th>Days NO2</th>\n",
       "      <th>Days Ozone</th>\n",
       "      <th>Days PM2.5</th>\n",
       "      <th>Days PM10</th>\n",
       "      <th>Percentage Very Unhealthy Days</th>\n",
       "    </tr>\n",
       "  </thead>\n",
       "  <tbody>\n",
       "    <tr>\n",
       "      <th>0</th>\n",
       "      <td>Alabama</td>\n",
       "      <td>Baldwin</td>\n",
       "      <td>2023</td>\n",
       "      <td>170</td>\n",
       "      <td>143</td>\n",
       "      <td>27</td>\n",
       "      <td>0</td>\n",
       "      <td>0</td>\n",
       "      <td>0</td>\n",
       "      <td>0</td>\n",
       "      <td>90</td>\n",
       "      <td>54</td>\n",
       "      <td>40</td>\n",
       "      <td>0</td>\n",
       "      <td>0</td>\n",
       "      <td>84</td>\n",
       "      <td>86</td>\n",
       "      <td>0</td>\n",
       "      <td>0.0</td>\n",
       "    </tr>\n",
       "    <tr>\n",
       "      <th>1</th>\n",
       "      <td>Alabama</td>\n",
       "      <td>Clay</td>\n",
       "      <td>2023</td>\n",
       "      <td>155</td>\n",
       "      <td>109</td>\n",
       "      <td>46</td>\n",
       "      <td>0</td>\n",
       "      <td>0</td>\n",
       "      <td>0</td>\n",
       "      <td>0</td>\n",
       "      <td>83</td>\n",
       "      <td>61</td>\n",
       "      <td>40</td>\n",
       "      <td>0</td>\n",
       "      <td>0</td>\n",
       "      <td>0</td>\n",
       "      <td>155</td>\n",
       "      <td>0</td>\n",
       "      <td>0.0</td>\n",
       "    </tr>\n",
       "    <tr>\n",
       "      <th>2</th>\n",
       "      <td>Alabama</td>\n",
       "      <td>DeKalb</td>\n",
       "      <td>2023</td>\n",
       "      <td>212</td>\n",
       "      <td>155</td>\n",
       "      <td>55</td>\n",
       "      <td>2</td>\n",
       "      <td>0</td>\n",
       "      <td>0</td>\n",
       "      <td>0</td>\n",
       "      <td>133</td>\n",
       "      <td>63</td>\n",
       "      <td>43</td>\n",
       "      <td>0</td>\n",
       "      <td>0</td>\n",
       "      <td>141</td>\n",
       "      <td>71</td>\n",
       "      <td>0</td>\n",
       "      <td>0.0</td>\n",
       "    </tr>\n",
       "    <tr>\n",
       "      <th>3</th>\n",
       "      <td>Alabama</td>\n",
       "      <td>Elmore</td>\n",
       "      <td>2023</td>\n",
       "      <td>118</td>\n",
       "      <td>102</td>\n",
       "      <td>16</td>\n",
       "      <td>0</td>\n",
       "      <td>0</td>\n",
       "      <td>0</td>\n",
       "      <td>0</td>\n",
       "      <td>90</td>\n",
       "      <td>54</td>\n",
       "      <td>40</td>\n",
       "      <td>0</td>\n",
       "      <td>0</td>\n",
       "      <td>118</td>\n",
       "      <td>0</td>\n",
       "      <td>0</td>\n",
       "      <td>0.0</td>\n",
       "    </tr>\n",
       "    <tr>\n",
       "      <th>4</th>\n",
       "      <td>Alabama</td>\n",
       "      <td>Etowah</td>\n",
       "      <td>2023</td>\n",
       "      <td>181</td>\n",
       "      <td>126</td>\n",
       "      <td>55</td>\n",
       "      <td>0</td>\n",
       "      <td>0</td>\n",
       "      <td>0</td>\n",
       "      <td>0</td>\n",
       "      <td>100</td>\n",
       "      <td>64</td>\n",
       "      <td>43</td>\n",
       "      <td>0</td>\n",
       "      <td>0</td>\n",
       "      <td>74</td>\n",
       "      <td>107</td>\n",
       "      <td>0</td>\n",
       "      <td>0.0</td>\n",
       "    </tr>\n",
       "    <tr>\n",
       "      <th>...</th>\n",
       "      <td>...</td>\n",
       "      <td>...</td>\n",
       "      <td>...</td>\n",
       "      <td>...</td>\n",
       "      <td>...</td>\n",
       "      <td>...</td>\n",
       "      <td>...</td>\n",
       "      <td>...</td>\n",
       "      <td>...</td>\n",
       "      <td>...</td>\n",
       "      <td>...</td>\n",
       "      <td>...</td>\n",
       "      <td>...</td>\n",
       "      <td>...</td>\n",
       "      <td>...</td>\n",
       "      <td>...</td>\n",
       "      <td>...</td>\n",
       "      <td>...</td>\n",
       "      <td>...</td>\n",
       "    </tr>\n",
       "    <tr>\n",
       "      <th>195</th>\n",
       "      <td>Hawaii</td>\n",
       "      <td>Maui</td>\n",
       "      <td>2023</td>\n",
       "      <td>163</td>\n",
       "      <td>162</td>\n",
       "      <td>0</td>\n",
       "      <td>0</td>\n",
       "      <td>1</td>\n",
       "      <td>0</td>\n",
       "      <td>0</td>\n",
       "      <td>152</td>\n",
       "      <td>29</td>\n",
       "      <td>18</td>\n",
       "      <td>0</td>\n",
       "      <td>0</td>\n",
       "      <td>0</td>\n",
       "      <td>163</td>\n",
       "      <td>0</td>\n",
       "      <td>0.0</td>\n",
       "    </tr>\n",
       "    <tr>\n",
       "      <th>196</th>\n",
       "      <td>Idaho</td>\n",
       "      <td>Ada</td>\n",
       "      <td>2023</td>\n",
       "      <td>182</td>\n",
       "      <td>153</td>\n",
       "      <td>28</td>\n",
       "      <td>1</td>\n",
       "      <td>0</td>\n",
       "      <td>0</td>\n",
       "      <td>0</td>\n",
       "      <td>101</td>\n",
       "      <td>54</td>\n",
       "      <td>41</td>\n",
       "      <td>1</td>\n",
       "      <td>10</td>\n",
       "      <td>149</td>\n",
       "      <td>22</td>\n",
       "      <td>0</td>\n",
       "      <td>0.0</td>\n",
       "    </tr>\n",
       "    <tr>\n",
       "      <th>197</th>\n",
       "      <td>Idaho</td>\n",
       "      <td>Bannock</td>\n",
       "      <td>2023</td>\n",
       "      <td>181</td>\n",
       "      <td>129</td>\n",
       "      <td>20</td>\n",
       "      <td>1</td>\n",
       "      <td>0</td>\n",
       "      <td>0</td>\n",
       "      <td>31</td>\n",
       "      <td>551</td>\n",
       "      <td>542</td>\n",
       "      <td>44</td>\n",
       "      <td>0</td>\n",
       "      <td>0</td>\n",
       "      <td>85</td>\n",
       "      <td>45</td>\n",
       "      <td>51</td>\n",
       "      <td>0.0</td>\n",
       "    </tr>\n",
       "    <tr>\n",
       "      <th>198</th>\n",
       "      <td>Idaho</td>\n",
       "      <td>Benewah</td>\n",
       "      <td>2023</td>\n",
       "      <td>181</td>\n",
       "      <td>147</td>\n",
       "      <td>34</td>\n",
       "      <td>0</td>\n",
       "      <td>0</td>\n",
       "      <td>0</td>\n",
       "      <td>0</td>\n",
       "      <td>92</td>\n",
       "      <td>56</td>\n",
       "      <td>33</td>\n",
       "      <td>0</td>\n",
       "      <td>0</td>\n",
       "      <td>0</td>\n",
       "      <td>181</td>\n",
       "      <td>0</td>\n",
       "      <td>0.0</td>\n",
       "    </tr>\n",
       "    <tr>\n",
       "      <th>199</th>\n",
       "      <td>Idaho</td>\n",
       "      <td>Blaine</td>\n",
       "      <td>2023</td>\n",
       "      <td>163</td>\n",
       "      <td>161</td>\n",
       "      <td>2</td>\n",
       "      <td>0</td>\n",
       "      <td>0</td>\n",
       "      <td>0</td>\n",
       "      <td>0</td>\n",
       "      <td>59</td>\n",
       "      <td>26</td>\n",
       "      <td>15</td>\n",
       "      <td>0</td>\n",
       "      <td>0</td>\n",
       "      <td>0</td>\n",
       "      <td>163</td>\n",
       "      <td>0</td>\n",
       "      <td>0.0</td>\n",
       "    </tr>\n",
       "  </tbody>\n",
       "</table>\n",
       "<p>200 rows × 19 columns</p>\n",
       "</div>"
      ],
      "text/plain": [
       "       State   County  Year  Days with AQI  Good Days  Moderate Days  \\\n",
       "0    Alabama  Baldwin  2023            170        143             27   \n",
       "1    Alabama     Clay  2023            155        109             46   \n",
       "2    Alabama   DeKalb  2023            212        155             55   \n",
       "3    Alabama   Elmore  2023            118        102             16   \n",
       "4    Alabama   Etowah  2023            181        126             55   \n",
       "..       ...      ...   ...            ...        ...            ...   \n",
       "195   Hawaii     Maui  2023            163        162              0   \n",
       "196    Idaho      Ada  2023            182        153             28   \n",
       "197    Idaho  Bannock  2023            181        129             20   \n",
       "198    Idaho  Benewah  2023            181        147             34   \n",
       "199    Idaho   Blaine  2023            163        161              2   \n",
       "\n",
       "     Unhealthy for Sensitive Groups Days  Unhealthy Days  Very Unhealthy Days  \\\n",
       "0                                      0               0                    0   \n",
       "1                                      0               0                    0   \n",
       "2                                      2               0                    0   \n",
       "3                                      0               0                    0   \n",
       "4                                      0               0                    0   \n",
       "..                                   ...             ...                  ...   \n",
       "195                                    0               1                    0   \n",
       "196                                    1               0                    0   \n",
       "197                                    1               0                    0   \n",
       "198                                    0               0                    0   \n",
       "199                                    0               0                    0   \n",
       "\n",
       "     Hazardous Days  Max AQI  90th Percentile AQI  Median AQI  Days CO  \\\n",
       "0                 0       90                   54          40        0   \n",
       "1                 0       83                   61          40        0   \n",
       "2                 0      133                   63          43        0   \n",
       "3                 0       90                   54          40        0   \n",
       "4                 0      100                   64          43        0   \n",
       "..              ...      ...                  ...         ...      ...   \n",
       "195               0      152                   29          18        0   \n",
       "196               0      101                   54          41        1   \n",
       "197              31      551                  542          44        0   \n",
       "198               0       92                   56          33        0   \n",
       "199               0       59                   26          15        0   \n",
       "\n",
       "     Days NO2  Days Ozone  Days PM2.5  Days PM10  \\\n",
       "0           0          84          86          0   \n",
       "1           0           0         155          0   \n",
       "2           0         141          71          0   \n",
       "3           0         118           0          0   \n",
       "4           0          74         107          0   \n",
       "..        ...         ...         ...        ...   \n",
       "195         0           0         163          0   \n",
       "196        10         149          22          0   \n",
       "197         0          85          45         51   \n",
       "198         0           0         181          0   \n",
       "199         0           0         163          0   \n",
       "\n",
       "     Percentage Very Unhealthy Days  \n",
       "0                               0.0  \n",
       "1                               0.0  \n",
       "2                               0.0  \n",
       "3                               0.0  \n",
       "4                               0.0  \n",
       "..                              ...  \n",
       "195                             0.0  \n",
       "196                             0.0  \n",
       "197                             0.0  \n",
       "198                             0.0  \n",
       "199                             0.0  \n",
       "\n",
       "[200 rows x 19 columns]"
      ]
     },
     "execution_count": 136,
     "metadata": {},
     "output_type": "execute_result"
    }
   ],
   "source": [
    "# Displaying the first few rows of the DataFrame to get an overview\n",
    "df.head(200)"
   ]
  },
  {
   "cell_type": "markdown",
   "id": "c6cad963",
   "metadata": {},
   "source": [
    "## Data Exploration : What do the individual columns represent."
   ]
  },
  {
   "cell_type": "markdown",
   "id": "493923cb",
   "metadata": {},
   "source": [
    "[Write your response here. Double-click (or enter) to edit.]\n",
    "\n",
    "- State: Indicates the state in which the data was recorded.\n",
    "- County: Specifies the county within the state where the observations were made.\n",
    "- Year: Represents the year in which the data was recorded.\n",
    "- Days with AQI: Denotes the total number of days for which the Air Quality Index (AQI) was calculated.\n",
    "- Good Days: Indicates the number of days categorized as having \"Good\" air quality.\n",
    "- Moderate Days: Represents the number of days with \"Moderate\" air quality.\n",
    "- Unhealthy for Sensitive Groups Days: Represents the number of days with air quality considered \"Unhealthy for Sensitive Groups.\"\n",
    "- Unhealthy Days: Denotes the number of days with \"Unhealthy\" air quality.\n",
    "- Very Unhealthy Days: Indicates the number of days with \"Very Unhealthy\" air quality.\n",
    "- Hazardous Days: Represents the number of days categorized as having \"Hazardous\" air quality.\n",
    "- Max AQI: Denotes the maximum Air Quality Index recorded on any given day.\n",
    "- 90th Percentile AQI: Represents the 90th percentile of the AQI values.\n",
    "- Median AQI: Represents the median (50th percentile) of the AQI values.\n",
    "- Days CO: Denotes the number of days with carbon monoxide (CO) readings.\n",
    "- Days NO2: Represents the number of days with nitrogen dioxide (NO2) readings.\n",
    "- Days Ozone: Denotes the number of days with ozone (O3) readings.\n",
    "- Days PM2.5: Represents the number of days with particulate matter (PM2.5) readings.\n",
    "- Days PM10: Denotes the number of days with particulate matter (PM10) readings."
   ]
  },
  {
   "cell_type": "markdown",
   "id": "632d04b4",
   "metadata": {},
   "source": [
    "## Exercises\n",
    "\n",
    "### Basic Questions:\n",
    "- What is the average of number of \"Days with AQI\" across all counties in the dataset?\n",
    "- What is the maximum value of \"Max AQI\" recorded in any county?\n",
    "- How many counties have \"Good Days\" as the majority category?\n",
    "- What is the median number of \"Days CO\" across all counties?\n",
    "- What is the range of \"Days PM10\" for the given dataset?"
   ]
  },
  {
   "cell_type": "markdown",
   "id": "b019c2c6",
   "metadata": {},
   "source": [
    "#### Q1. What is the average of number of \"Days with AQI\" across all counties in the dataset?"
   ]
  },
  {
   "cell_type": "code",
   "execution_count": 114,
   "id": "4c36851c",
   "metadata": {},
   "outputs": [
    {
     "name": "stdout",
     "output_type": "stream",
     "text": [
      "The average number of Days with AQI across all counties is: 194.89146469968387\n"
     ]
    }
   ],
   "source": [
    "### YOUR CODE HERE\n",
    "\n",
    "\n",
    "# Calculate the average of number of \"Days with AQI\"\n",
    "average_days_with_aqi = df['Days with AQI'].mean()\n",
    "\n",
    "print(f\"The average number of Days with AQI across all counties is: {average_days_with_aqi}\")"
   ]
  },
  {
   "cell_type": "markdown",
   "id": "295e2c18",
   "metadata": {},
   "source": [
    "#### Q2. What is the maximum value of \"Max AQI\" recorded in any county?"
   ]
  },
  {
   "cell_type": "code",
   "execution_count": 115,
   "id": "58bf9337",
   "metadata": {},
   "outputs": [
    {
     "name": "stdout",
     "output_type": "stream",
     "text": [
      "The maximum value of Max AQI recorded in any county is: 1695\n"
     ]
    }
   ],
   "source": [
    "### YOUR CODE HERE\n",
    "\n",
    "\n",
    "# Find the maximum value of \"Max AQI\"\n",
    "max_max_aqi = df['Max AQI'].max()\n",
    "\n",
    "print(f\"The maximum value of Max AQI recorded in any county is: {max_max_aqi}\")\n"
   ]
  },
  {
   "cell_type": "markdown",
   "id": "82a19b77",
   "metadata": {},
   "source": [
    "#### Q3. How many counties have \"Good Days\" as the majority category?"
   ]
  },
  {
   "cell_type": "code",
   "execution_count": 116,
   "id": "c2e694c0",
   "metadata": {},
   "outputs": [
    {
     "name": "stdout",
     "output_type": "stream",
     "text": [
      "The number of counties where 'Good Days' is the majority category is: 0\n"
     ]
    }
   ],
   "source": [
    "### YOUR CODE HERE\n",
    "\n",
    "# Count the occurrences of each category in the \"Good Days\" column\n",
    "good_days_counts = df['Good Days'].value_counts()\n",
    "\n",
    "# Check if 'Good Days' is in the index and get its count, otherwise set to 0\n",
    "counties_with_majority_good_days = good_days_counts.get('Good', 0)\n",
    "\n",
    "print(f\"The number of counties where 'Good Days' is the majority category is: {counties_with_majority_good_days}\")"
   ]
  },
  {
   "cell_type": "markdown",
   "id": "43064825",
   "metadata": {},
   "source": [
    "#### Q4. What is the median number of \"Days CO\" across all counties?"
   ]
  },
  {
   "cell_type": "code",
   "execution_count": 117,
   "id": "f0f3ddfc",
   "metadata": {},
   "outputs": [
    {
     "name": "stdout",
     "output_type": "stream",
     "text": [
      "The median number of Days CO across all counties is: 0.0\n"
     ]
    }
   ],
   "source": [
    "### YOUR CODE HERE\n",
    "\n",
    "\n",
    "# Calculate the median number of \"Days CO\"\n",
    "median_days_co = df['Days CO'].median()\n",
    "\n",
    "print(f\"The median number of Days CO across all counties is: {median_days_co}\")"
   ]
  },
  {
   "cell_type": "markdown",
   "id": "3efac5f6",
   "metadata": {},
   "source": [
    "#### Q5. What is the range of \"Days PM10\" for the given dataset?"
   ]
  },
  {
   "cell_type": "code",
   "execution_count": 118,
   "id": "9a05cdb2",
   "metadata": {},
   "outputs": [
    {
     "name": "stdout",
     "output_type": "stream",
     "text": [
      "The range of Days PM10 for the given dataset is: 269\n"
     ]
    }
   ],
   "source": [
    "### YOUR CODE HERE\n",
    "\n",
    "# Calculate the range for \"Days PM10\"\n",
    "range_days_pm10 = df['Days PM10'].max() - df['Days PM10'].min()\n",
    "\n",
    "print(f\"The range of Days PM10 for the given dataset is: {range_days_pm10}\")"
   ]
  },
  {
   "cell_type": "markdown",
   "id": "b8311e44",
   "metadata": {},
   "source": [
    "### Medium Difficulty Questions:\n",
    "\n",
    "- Which county has the highest number of \"Unhealthy Days\"?\n",
    "- What is the 90th percentile AQI value for \"Unhealthy for Sensitive Groups Days\" across all counties?\n",
    "- Calculate the interquartile range (IQR) for the \"Days NO2\" column.\n",
    "- In how many counties does the \"Hazardous Days\" category occur at least once?\n",
    "- What is the correlation between \"Days Ozone\" and \"Days PM2.5\"?"
   ]
  },
  {
   "cell_type": "markdown",
   "id": "9de59cb6",
   "metadata": {},
   "source": [
    "#### Q1. Which county has the highest number of \"Unhealthy Days\"?"
   ]
  },
  {
   "cell_type": "code",
   "execution_count": 119,
   "id": "5d6b5ef5",
   "metadata": {},
   "outputs": [
    {
     "name": "stdout",
     "output_type": "stream",
     "text": [
      "The county with the highest number of Unhealthy Days is: Riverside\n"
     ]
    }
   ],
   "source": [
    "### YOUR CODE HERE\n",
    "\n",
    "# Find the county with the highest number of \"Unhealthy Days\"\n",
    "county_highest_unhealthy_days = df.loc[df['Unhealthy Days'].idxmax()]['County']\n",
    "\n",
    "print(f\"The county with the highest number of Unhealthy Days is: {county_highest_unhealthy_days}\")"
   ]
  },
  {
   "cell_type": "markdown",
   "id": "c8dcc5ac",
   "metadata": {},
   "source": [
    "#### Q2. What is the 90th percentile AQI value for \"Unhealthy for Sensitive Groups Days\" across all counties?"
   ]
  },
  {
   "cell_type": "code",
   "execution_count": 120,
   "id": "0b339ace",
   "metadata": {},
   "outputs": [
    {
     "name": "stdout",
     "output_type": "stream",
     "text": [
      "The 90th percentile AQI value for 'Unhealthy for Sensitive Groups Days' across all counties is: 87.0\n"
     ]
    }
   ],
   "source": [
    "### YOUR CODE HERE\n",
    "\n",
    "# Calculate the 90th percentile AQI value for \"Unhealthy for Sensitive Groups Days\"\n",
    "percentile_90_aqi_value = df['90th Percentile AQI'].quantile(0.9)\n",
    "\n",
    "print(f\"The 90th percentile AQI value for 'Unhealthy for Sensitive Groups Days' across all counties is: {percentile_90_aqi_value}\")"
   ]
  },
  {
   "cell_type": "markdown",
   "id": "21fc1070",
   "metadata": {},
   "source": [
    "#### Q3. Calculate the interquartile range (IQR) for the \"Days NO2\" column."
   ]
  },
  {
   "cell_type": "code",
   "execution_count": 121,
   "id": "e906d5c5",
   "metadata": {},
   "outputs": [
    {
     "name": "stdout",
     "output_type": "stream",
     "text": [
      "The interquartile range (IQR) for 'Days NO2' is: 0.0\n"
     ]
    }
   ],
   "source": [
    "### YOUR CODE HERE\n",
    "\n",
    "\n",
    "# Calculate the interquartile range (IQR) for \"Days NO2\"\n",
    "iqr_days_no2 = df['Days NO2'].quantile(0.75) - df['Days NO2'].quantile(0.25)\n",
    "\n",
    "print(f\"The interquartile range (IQR) for 'Days NO2' is: {iqr_days_no2}\")"
   ]
  },
  {
   "cell_type": "markdown",
   "id": "6028fa3c",
   "metadata": {},
   "source": [
    "#### Q4. In how many counties does the \"Hazardous Days\" category occur at least once?"
   ]
  },
  {
   "cell_type": "code",
   "execution_count": 122,
   "id": "98968af0",
   "metadata": {},
   "outputs": [
    {
     "name": "stdout",
     "output_type": "stream",
     "text": [
      "The number of counties with at least one 'Hazardous Day' is: 8\n"
     ]
    }
   ],
   "source": [
    "### YOUR CODE HERE\n",
    "\n",
    "\n",
    "# Count the number of counties where 'Hazardous Days' occur at least once\n",
    "counties_with_hazardous_days = df[df['Hazardous Days'] > 0]['County'].nunique()\n",
    "\n",
    "print(f\"The number of counties with at least one 'Hazardous Day' is: {counties_with_hazardous_days}\")"
   ]
  },
  {
   "cell_type": "markdown",
   "id": "54e228e9",
   "metadata": {},
   "source": [
    "#### Q5. What is the correlation between \"Days Ozone\" and \"Days PM2.5\"?"
   ]
  },
  {
   "cell_type": "code",
   "execution_count": 123,
   "id": "0b689b31",
   "metadata": {},
   "outputs": [
    {
     "name": "stdout",
     "output_type": "stream",
     "text": [
      "The correlation between 'Days Ozone' and 'Days PM2.5' is: -0.6705846004344856\n"
     ]
    }
   ],
   "source": [
    "### YOUR CODE HERE\n",
    "\n",
    "\n",
    "# Calculate the correlation between \"Days Ozone\" and \"Days PM2.5\"\n",
    "correlation_days_ozone_pm25 = df['Days Ozone'].corr(df['Days PM2.5'])\n",
    "\n",
    "print(f\"The correlation between 'Days Ozone' and 'Days PM2.5' is: {correlation_days_ozone_pm25}\")"
   ]
  },
  {
   "cell_type": "markdown",
   "id": "3fa31936",
   "metadata": {},
   "source": [
    "### Difficult Questions:\n",
    "\n",
    "- For counties with more than 200 \"Days with AQI,\" what is the average \"Median AQI\"?\n",
    "- Identify the county with the highest percentage of \"Very Unhealthy Days\" relative to the total \"Days with AQI.\"\n",
    "- Perform a t-test to compare the means of \"Days Ozone\" and \"Days PM2.5\" across all counties.\n",
    "- Create a box plot for the distribution of \"Days CO\" and \"Days NO2\" to visualize their spread.\n",
    "- Using linear regression, predict the \"Days PM10\" based on the \"Days PM2.5\" for a selected county."
   ]
  },
  {
   "cell_type": "markdown",
   "id": "23418224",
   "metadata": {},
   "source": [
    "#### Q1. For counties with more than 200 \"Days with AQI,\" what is the average \"Median AQI\"?"
   ]
  },
  {
   "cell_type": "code",
   "execution_count": 124,
   "id": "4429e654",
   "metadata": {},
   "outputs": [
    {
     "name": "stdout",
     "output_type": "stream",
     "text": [
      "The average 'Median AQI' for counties with more than 200 'Days with AQI' is: 41.38931297709924\n"
     ]
    }
   ],
   "source": [
    "### YOUR CODE HERE\n",
    "\n",
    "# Filter counties with more than 200 \"Days with AQI\"\n",
    "filtered_counties = df[df['Days with AQI'] > 200]\n",
    "\n",
    "# Calculate the average \"Median AQI\" for the filtered counties\n",
    "average_median_aqi = filtered_counties['Median AQI'].mean()\n",
    "\n",
    "print(f\"The average 'Median AQI' for counties with more than 200 'Days with AQI' is: {average_median_aqi}\")"
   ]
  },
  {
   "cell_type": "markdown",
   "id": "c736a92c",
   "metadata": {},
   "source": [
    "#### Q2. Identify the county with the highest percentage of \"Very Unhealthy Days\" relative to the total \"Days with AQI.\""
   ]
  },
  {
   "cell_type": "code",
   "execution_count": 125,
   "id": "b3f14283",
   "metadata": {},
   "outputs": [
    {
     "name": "stdout",
     "output_type": "stream",
     "text": [
      "The county with the highest percentage of 'Very Unhealthy Days' relative to total 'Days with AQI' is: Berks\n"
     ]
    }
   ],
   "source": [
    "### YOUR CODE HERE\n",
    "\n",
    "# Calculate the percentage of \"Very Unhealthy Days\" relative to the total \"Days with AQI\"\n",
    "df['Percentage Very Unhealthy Days'] = (df['Very Unhealthy Days'] / df['Days with AQI']) * 100\n",
    "\n",
    "# Find the county with the highest percentage\n",
    "county_highest_percentage = df.loc[df['Percentage Very Unhealthy Days'].idxmax()]['County']\n",
    "\n",
    "print(f\"The county with the highest percentage of 'Very Unhealthy Days' relative to total 'Days with AQI' is: {county_highest_percentage}\")"
   ]
  },
  {
   "cell_type": "markdown",
   "id": "c1737503",
   "metadata": {},
   "source": [
    "#### Q3. Perform a t-test to compare the means of \"Days Ozone\" and \"Days PM2.5\" across all counties."
   ]
  },
  {
   "cell_type": "code",
   "execution_count": 126,
   "id": "dce0d6ba",
   "metadata": {},
   "outputs": [
    {
     "name": "stdout",
     "output_type": "stream",
     "text": [
      "T-statistic: 13.396524860661707\n",
      "P-value: 3.6066114901795416e-39\n",
      "Reject the null hypothesis. There is a significant difference between the means.\n"
     ]
    }
   ],
   "source": [
    "### YOUR CODE HERE\n",
    "\n",
    "from scipy.stats import ttest_ind\n",
    "\n",
    "# Assuming 'df' is your DataFrame\n",
    "# Replace 'df' with the actual variable name of your DataFrame\n",
    "\n",
    "# Extract the two columns for the t-test\n",
    "days_ozone = df['Days Ozone'].dropna()\n",
    "days_pm25 = df['Days PM2.5'].dropna()\n",
    "\n",
    "# Perform a t-test\n",
    "t_statistic, p_value = ttest_ind(days_ozone, days_pm25)\n",
    "\n",
    "print(f\"T-statistic: {t_statistic}\")\n",
    "print(f\"P-value: {p_value}\")\n",
    "\n",
    "# Interpret the results\n",
    "alpha = 0.05\n",
    "if p_value < alpha:\n",
    "    print(\"Reject the null hypothesis. There is a significant difference between the means.\")\n",
    "else:\n",
    "    print(\"Fail to reject the null hypothesis. There is no significant difference between the means.\")\n",
    "\n"
   ]
  },
  {
   "cell_type": "markdown",
   "id": "19ebbbf7",
   "metadata": {},
   "source": [
    "#### Q4. Create a box plot for the distribution of \"Days CO\" and \"Days NO2\" to visualize their spread."
   ]
  },
  {
   "cell_type": "code",
   "execution_count": 127,
   "id": "07c3666c",
   "metadata": {},
   "outputs": [
    {
     "data": {
      "image/png": "[encoded data removed]",
      "text/plain": [
       "<Figure size 1000x600 with 1 Axes>"
      ]
     },
     "metadata": {},
     "output_type": "display_data"
    }
   ],
   "source": [
    "### YOUR CODE HERE\n",
    "\n",
    "\n",
    "# Extract the two columns for the box plot\n",
    "days_co = df['Days CO'].dropna()\n",
    "days_no2 = df['Days NO2'].dropna()\n",
    "\n",
    "# Create a box plot\n",
    "plt.figure(figsize=(10, 6))\n",
    "plt.boxplot([days_co, days_no2], labels=['Days CO', 'Days NO2'])\n",
    "plt.title('Box Plot of Days CO and Days NO2')\n",
    "plt.ylabel('Number of Days')\n",
    "plt.show()"
   ]
  },
  {
   "cell_type": "markdown",
   "id": "c0208dc0",
   "metadata": {},
   "source": [
    "#### Q5. Using linear regression, predict the \"Days PM10\" based on the \"Days PM2.5\" for a selected county."
   ]
  },
  {
   "cell_type": "code",
   "execution_count": 141,
   "id": "f8b9c672",
   "metadata": {},
   "outputs": [
    {
     "ename": "ValueError",
     "evalue": "With n_samples=1, test_size=0.2 and train_size=None, the resulting train set will be empty. Adjust any of the aforementioned parameters.",
     "output_type": "error",
     "traceback": [
      "\u001b[0;31m---------------------------------------------------------------------------\u001b[0m",
      "\u001b[0;31mValueError\u001b[0m                                Traceback (most recent call last)",
      "Cell \u001b[0;32mIn[141], line 20\u001b[0m\n\u001b[1;32m     17\u001b[0m y \u001b[38;5;241m=\u001b[39m selected_county_data[\u001b[38;5;124m'\u001b[39m\u001b[38;5;124mDays PM10\u001b[39m\u001b[38;5;124m'\u001b[39m]\n\u001b[1;32m     19\u001b[0m \u001b[38;5;66;03m# Split the data into training and testing sets\u001b[39;00m\n\u001b[0;32m---> 20\u001b[0m X_train, X_test, y_train, y_test \u001b[38;5;241m=\u001b[39m train_test_split(X, y, test_size\u001b[38;5;241m=\u001b[39m\u001b[38;5;241m0.2\u001b[39m, random_state\u001b[38;5;241m=\u001b[39m\u001b[38;5;241m42\u001b[39m)\n\u001b[1;32m     22\u001b[0m \u001b[38;5;66;03m# Create a linear regression model\u001b[39;00m\n\u001b[1;32m     23\u001b[0m model \u001b[38;5;241m=\u001b[39m LinearRegression()\n",
      "File \u001b[0;32m~/anaconda3/lib/python3.11/site-packages/sklearn/utils/_param_validation.py:211\u001b[0m, in \u001b[0;36mvalidate_params.<locals>.decorator.<locals>.wrapper\u001b[0;34m(*args, **kwargs)\u001b[0m\n\u001b[1;32m    205\u001b[0m \u001b[38;5;28;01mtry\u001b[39;00m:\n\u001b[1;32m    206\u001b[0m     \u001b[38;5;28;01mwith\u001b[39;00m config_context(\n\u001b[1;32m    207\u001b[0m         skip_parameter_validation\u001b[38;5;241m=\u001b[39m(\n\u001b[1;32m    208\u001b[0m             prefer_skip_nested_validation \u001b[38;5;129;01mor\u001b[39;00m global_skip_validation\n\u001b[1;32m    209\u001b[0m         )\n\u001b[1;32m    210\u001b[0m     ):\n\u001b[0;32m--> 211\u001b[0m         \u001b[38;5;28;01mreturn\u001b[39;00m func(\u001b[38;5;241m*\u001b[39margs, \u001b[38;5;241m*\u001b[39m\u001b[38;5;241m*\u001b[39mkwargs)\n\u001b[1;32m    212\u001b[0m \u001b[38;5;28;01mexcept\u001b[39;00m InvalidParameterError \u001b[38;5;28;01mas\u001b[39;00m e:\n\u001b[1;32m    213\u001b[0m     \u001b[38;5;66;03m# When the function is just a wrapper around an estimator, we allow\u001b[39;00m\n\u001b[1;32m    214\u001b[0m     \u001b[38;5;66;03m# the function to delegate validation to the estimator, but we replace\u001b[39;00m\n\u001b[1;32m    215\u001b[0m     \u001b[38;5;66;03m# the name of the estimator by the name of the function in the error\u001b[39;00m\n\u001b[1;32m    216\u001b[0m     \u001b[38;5;66;03m# message to avoid confusion.\u001b[39;00m\n\u001b[1;32m    217\u001b[0m     msg \u001b[38;5;241m=\u001b[39m re\u001b[38;5;241m.\u001b[39msub(\n\u001b[1;32m    218\u001b[0m         \u001b[38;5;124mr\u001b[39m\u001b[38;5;124m\"\u001b[39m\u001b[38;5;124mparameter of \u001b[39m\u001b[38;5;124m\\\u001b[39m\u001b[38;5;124mw+ must be\u001b[39m\u001b[38;5;124m\"\u001b[39m,\n\u001b[1;32m    219\u001b[0m         \u001b[38;5;124mf\u001b[39m\u001b[38;5;124m\"\u001b[39m\u001b[38;5;124mparameter of \u001b[39m\u001b[38;5;132;01m{\u001b[39;00mfunc\u001b[38;5;241m.\u001b[39m\u001b[38;5;18m__qualname__\u001b[39m\u001b[38;5;132;01m}\u001b[39;00m\u001b[38;5;124m must be\u001b[39m\u001b[38;5;124m\"\u001b[39m,\n\u001b[1;32m    220\u001b[0m         \u001b[38;5;28mstr\u001b[39m(e),\n\u001b[1;32m    221\u001b[0m     )\n",
      "File \u001b[0;32m~/anaconda3/lib/python3.11/site-packages/sklearn/model_selection/_split.py:2617\u001b[0m, in \u001b[0;36mtrain_test_split\u001b[0;34m(test_size, train_size, random_state, shuffle, stratify, *arrays)\u001b[0m\n\u001b[1;32m   2614\u001b[0m arrays \u001b[38;5;241m=\u001b[39m indexable(\u001b[38;5;241m*\u001b[39marrays)\n\u001b[1;32m   2616\u001b[0m n_samples \u001b[38;5;241m=\u001b[39m _num_samples(arrays[\u001b[38;5;241m0\u001b[39m])\n\u001b[0;32m-> 2617\u001b[0m n_train, n_test \u001b[38;5;241m=\u001b[39m _validate_shuffle_split(\n\u001b[1;32m   2618\u001b[0m     n_samples, test_size, train_size, default_test_size\u001b[38;5;241m=\u001b[39m\u001b[38;5;241m0.25\u001b[39m\n\u001b[1;32m   2619\u001b[0m )\n\u001b[1;32m   2621\u001b[0m \u001b[38;5;28;01mif\u001b[39;00m shuffle \u001b[38;5;129;01mis\u001b[39;00m \u001b[38;5;28;01mFalse\u001b[39;00m:\n\u001b[1;32m   2622\u001b[0m     \u001b[38;5;28;01mif\u001b[39;00m stratify \u001b[38;5;129;01mis\u001b[39;00m \u001b[38;5;129;01mnot\u001b[39;00m \u001b[38;5;28;01mNone\u001b[39;00m:\n",
      "File \u001b[0;32m~/anaconda3/lib/python3.11/site-packages/sklearn/model_selection/_split.py:2273\u001b[0m, in \u001b[0;36m_validate_shuffle_split\u001b[0;34m(n_samples, test_size, train_size, default_test_size)\u001b[0m\n\u001b[1;32m   2270\u001b[0m n_train, n_test \u001b[38;5;241m=\u001b[39m \u001b[38;5;28mint\u001b[39m(n_train), \u001b[38;5;28mint\u001b[39m(n_test)\n\u001b[1;32m   2272\u001b[0m \u001b[38;5;28;01mif\u001b[39;00m n_train \u001b[38;5;241m==\u001b[39m \u001b[38;5;241m0\u001b[39m:\n\u001b[0;32m-> 2273\u001b[0m     \u001b[38;5;28;01mraise\u001b[39;00m \u001b[38;5;167;01mValueError\u001b[39;00m(\n\u001b[1;32m   2274\u001b[0m         \u001b[38;5;124m\"\u001b[39m\u001b[38;5;124mWith n_samples=\u001b[39m\u001b[38;5;132;01m{}\u001b[39;00m\u001b[38;5;124m, test_size=\u001b[39m\u001b[38;5;132;01m{}\u001b[39;00m\u001b[38;5;124m and train_size=\u001b[39m\u001b[38;5;132;01m{}\u001b[39;00m\u001b[38;5;124m, the \u001b[39m\u001b[38;5;124m\"\u001b[39m\n\u001b[1;32m   2275\u001b[0m         \u001b[38;5;124m\"\u001b[39m\u001b[38;5;124mresulting train set will be empty. Adjust any of the \u001b[39m\u001b[38;5;124m\"\u001b[39m\n\u001b[1;32m   2276\u001b[0m         \u001b[38;5;124m\"\u001b[39m\u001b[38;5;124maforementioned parameters.\u001b[39m\u001b[38;5;124m\"\u001b[39m\u001b[38;5;241m.\u001b[39mformat(n_samples, test_size, train_size)\n\u001b[1;32m   2277\u001b[0m     )\n\u001b[1;32m   2279\u001b[0m \u001b[38;5;28;01mreturn\u001b[39;00m n_train, n_test\n",
      "\u001b[0;31mValueError\u001b[0m: With n_samples=1, test_size=0.2 and train_size=None, the resulting train set will be empty. Adjust any of the aforementioned parameters."
     ]
    }
   ],
   "source": [
    "### YOUR CODE HERE\n",
    "\n",
    "from sklearn.model_selection import train_test_split\n",
    "from sklearn.linear_model import LinearRegression\n",
    "\n",
    "# Assuming 'df' is your DataFrame\n",
    "# Replace 'df' with the actual variable name of your DataFrame\n",
    "\n",
    "# Select a county (replace 'Selected County' with the actual county name)\n",
    "selected_county = 'Blaine'\n",
    "\n",
    "# Filter data for the selected county\n",
    "selected_county_data = df[df['County'] == selected_county].dropna(subset=['Days PM10', 'Days PM2.5'])\n",
    "\n",
    "# Extract features (X) and target variable (y)\n",
    "X = selected_county_data[['Days PM2.5']]\n",
    "y = selected_county_data['Days PM10']\n",
    "\n",
    "# Split the data into training and testing sets\n",
    "X_train, X_test, y_train, y_test = train_test_split(X, y, test_size=0.2, random_state=42)\n",
    "\n",
    "# Create a linear regression model\n",
    "model = LinearRegression()\n",
    "\n",
    "# Train the model on the training set\n",
    "model.fit(X_train, y_train)\n",
    "\n",
    "# Make predictions on the test set\n",
    "y_pred = model.predict(X_test)\n",
    "\n",
    "# Visualize the regression line\n",
    "plt.scatter(X_test, y_test, color='blue', label='Actual Data')\n",
    "plt.plot(X_test, y_pred, color='red', linewidth=2, label='Regression Line')\n",
    "plt.title(f'Linear Regression: Days PM10 vs. Days PM2.5 ({selected_county})')\n",
    "plt.xlabel('Days PM2.5')\n",
    "plt.ylabel('Days PM10')\n",
    "plt.legend()\n",
    "plt.show()\n",
    "\n"
   ]
  },
  {
   "cell_type": "markdown",
   "id": "c04b9ec8",
   "metadata": {},
   "source": [
    "## Oops! Fixing the Error \n",
    "\n",
    "The error you're encountering, \"ValueError: With n_samples=0, test_size=0.2 and train_size=None, the resulting train set will be empty,\" indicates that the size of your dataset is too small, and the specified test size is not compatible with the available data points.\n",
    "\n",
    "To address this issue, you can modify the code to check if there are enough data points for splitting before attempting to perform the train-test split. Here's an updated version of the code:"
   ]
  },
  {
   "cell_type": "code",
   "execution_count": 142,
   "id": "5da895fb",
   "metadata": {},
   "outputs": [
    {
     "name": "stdout",
     "output_type": "stream",
     "text": [
      "Insufficient data points for splitting.\n"
     ]
    }
   ],
   "source": [
    "from sklearn.model_selection import train_test_split\n",
    "from sklearn.linear_model import LinearRegression\n",
    "\n",
    "# Assuming 'df' is your DataFrame\n",
    "# Replace 'df' with the actual variable name of your DataFrame\n",
    "\n",
    "# Select a county (replace 'Selected County' with the actual county name)\n",
    "selected_county = 'Ada'\n",
    "\n",
    "# Filter data for the selected county\n",
    "selected_county_data = df[df['County'] == selected_county].dropna(subset=['Days PM10', 'Days PM2.5'])\n",
    "\n",
    "# Check if there are enough data points for splitting\n",
    "if len(selected_county_data) < 2:\n",
    "    print(\"Insufficient data points for splitting.\")\n",
    "else:\n",
    "    # Extract features (X) and target variable (y)\n",
    "    X = selected_county_data[['Days PM2.5']]\n",
    "    y = selected_county_data['Days PM10']\n",
    "\n",
    "    # Split the data into training and testing sets\n",
    "    X_train, X_test, y_train, y_test = train_test_split(X, y, test_size=0.2, random_state=42)\n",
    "\n",
    "    # Create a linear regression model\n",
    "    model = LinearRegression()\n",
    "\n",
    "    # Train the model on the training set\n",
    "    model.fit(X_train, y_train)\n",
    "\n",
    "    # Make predictions on the test set\n",
    "    y_pred = model.predict(X_test)\n",
    "\n",
    "    # Visualize the regression line\n",
    "    plt.scatter(X_test, y_test, color='blue', label='Actual Data')\n",
    "    plt.plot(X_test, y_pred, color='red', linewidth=2, label='Regression Line')\n",
    "    plt.title(f'Linear Regression: Days PM10 vs. Days PM2.5 ({selected_county})')\n",
    "    plt.xlabel('Days PM2.5')\n",
    "    plt.ylabel('Days PM10')\n",
    "    plt.legend()\n",
    "    plt.show()\n"
   ]
  },
  {
   "cell_type": "code",
   "execution_count": 143,
   "id": "ec16965d",
   "metadata": {},
   "outputs": [
    {
     "name": "stdout",
     "output_type": "stream",
     "text": [
      "Insufficient data points for analysis in Benewah. Trying a different county or variable may be more suitable.\n"
     ]
    }
   ],
   "source": [
    "import pandas as pd\n",
    "from sklearn.linear_model import LinearRegression\n",
    "import matplotlib.pyplot as plt\n",
    "\n",
    "# Assuming 'df' is your DataFrame\n",
    "# Replace 'df' with the actual variable name of your DataFrame\n",
    "\n",
    "# Select a county (replace 'Selected County' with the actual county name)\n",
    "selected_county = 'Benewah'\n",
    "\n",
    "# Filter data for the selected county\n",
    "selected_county_data = df[df['County'] == selected_county].dropna(subset=['Days PM10', 'Days PM2.5'])\n",
    "\n",
    "# Check if there are enough data points for analysis\n",
    "if len(selected_county_data) < 2:\n",
    "    print(f\"Insufficient data points for analysis in {selected_county}. Trying a different county or variable may be more suitable.\")\n",
    "else:\n",
    "    # Extract features (X) and target variable (y)\n",
    "    X = selected_county_data[['Days PM2.5']]\n",
    "    y = selected_county_data['Days PM10']\n",
    "\n",
    "    # Create a linear regression model\n",
    "    model = LinearRegression()\n",
    "\n",
    "    # Train the model on the entire dataset\n",
    "    model.fit(X, y)\n",
    "\n",
    "    # Make predictions on the original data\n",
    "    y_pred = model.predict(X)\n",
    "\n",
    "    # Visualize the regression line\n",
    "    plt.scatter(X, y, color='blue', label='Actual Data')\n",
    "    plt.plot(X, y_pred, color='red', linewidth=2, label='Regression Line')\n",
    "    plt.title(f'Linear Regression: Days PM10 vs. Days PM2.5 ({selected_county})')\n",
    "    plt.xlabel('Days PM2.5')\n",
    "    plt.ylabel('Days PM10')\n",
    "    plt.legend()\n",
    "    plt.show()\n"
   ]
  },
  {
   "cell_type": "markdown",
   "id": "b047486e",
   "metadata": {},
   "source": [
    "## Conclusion\n",
    "\n",
    "In this Descriptive Statistics Mastery Exercise, we embarked on a comprehensive exploration of the \"aqi_by_county_2023\" dataset, unraveling key insights into air quality across different counties. Through a series of questions, we delved into basic, medium difficulty, and challenging aspects, employing Python descriptive statistics to extract valuable information.\n",
    "\n",
    "Our journey began with fundamental questions, providing an overview of averages, ranges, and counts. As we progressed to medium difficulty questions, we navigated through percentile calculations, interquartile ranges, and correlations between air quality metrics. The exercise concluded with advanced challenges, including statistical tests, visualizations, and predictive modeling.\n",
    "\n",
    "By engaging in this exercise, you have honed your skills in utilizing Pandas, NumPy, and Matplotlib to analyze and interpret data. Descriptive statistics served as powerful tools for summarizing, visualizing, and drawing meaningful conclusions about air quality dynamics.\n",
    "\n",
    "This exercise not only enhanced your proficiency in Python for statistical analysis but also equipped you with practical insights into the factors influencing air quality across diverse counties. Your ability to pose and answer questions using descriptive statistics is a valuable skill applicable to a wide range of data analysis scenarios.\n",
    "\n",
    "Continue exploring datasets, asking pertinent questions, and applying statistical techniques to gain deeper insights into the world of data analysis. Congratulations on completing this exercise, and may your data exploration journey continue to be both rewarding and enlightening!"
   ]
  }
 ],
 "metadata": {
  "kernelspec": {
   "display_name": "Python 3 (ipykernel)",
   "language": "python",
   "name": "python3"
  },
  "language_info": {
   "codemirror_mode": {
    "name": "ipython",
    "version": 3
   },
   "file_extension": ".py",
   "mimetype": "text/x-python",
   "name": "python",
   "nbconvert_exporter": "python",
   "pygments_lexer": "ipython3",
   "version": "3.11.5"
  }
 },
 "nbformat": 4,
 "nbformat_minor": 5
}
